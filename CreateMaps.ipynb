{
 "cells": [
  {
   "cell_type": "code",
   "execution_count": 38,
   "id": "f0fdea2b-59bb-4bf6-b7fb-f3ec6f723fad",
   "metadata": {},
   "outputs": [],
   "source": [
    "import geopandas as gpd\n",
    "import pandas as pd\n",
    "from datetime import datetime\n",
    "import json\n",
    "import os\n",
    "\n",
    "import matplotlib.pyplot as plt\n",
    "import matplotlib.patheffects as pe\n",
    "import folium"
   ]
  },
  {
   "cell_type": "code",
   "execution_count": 2,
   "id": "a9fe1638-62fb-4e70-b2d9-e44b3fcdc7c7",
   "metadata": {},
   "outputs": [],
   "source": [
    "# Prevent warning messages from openpyxl\n",
    "# Courtesy of https://stackoverflow.com/a/66015981/4361039\n",
    "\n",
    "import warnings\n",
    "warnings.simplefilter(\"ignore\")"
   ]
  },
  {
   "cell_type": "code",
   "execution_count": 165,
   "id": "d86cc595-d843-4908-86e9-9ade8a3d4213",
   "metadata": {},
   "outputs": [],
   "source": [
    "# Function to read census tract boundaries geopackage file\n",
    "# Returns a geodataframe\n",
    "def read_geo(year):\n",
    "    geo = gpd.read_file(\n",
    "        f'./census-tracts/{year}-toronto-ct.gpkg'\n",
    "    ).to_crs('EPSG:4326')\n",
    "    \n",
    "    # Identify column with census tract names\n",
    "    ct_col_name = [ col for col in geo.columns if str(col).lower()[:2] == 'ct'][0]\n",
    "    if year == 2011:\n",
    "        ct_col_name = 'CTNAME'\n",
    "    \n",
    "    # Only return two columns: ct, geometry\n",
    "    geo = geo.filter([ct_col_name, 'geometry'])\n",
    "    geo.columns = ['ct', 'geometry']\n",
    "    \n",
    "    # Make sure census tract names are strings, not ints\n",
    "    geo.ct = geo.ct.apply(lambda x: \"{:06.2f}\".format(float(x)))\n",
    "    \n",
    "    return geo\n",
    "\n",
    "\n",
    "# Function to read a single year of Census data from Excel\n",
    "# Returns a dataframe\n",
    "def read_data(year):\n",
    "    \n",
    "    dfs = pd.read_excel(\n",
    "        f'./census-data/QC Completed {year}.xlsx',\n",
    "        sheet_name=None,        # read all available sheets\n",
    "        na_values=['no data']\n",
    "    )\n",
    "    \n",
    "    # Sheets that contain census tract data are named \"CT Tab...\"\n",
    "    data_tab_names = [ tab for tab in dfs if tab.startswith('CT Tab') ]\n",
    "    \n",
    "    print(f\"Census {year}: reading data from {', '.join(data_tab_names)}\")\n",
    "    \n",
    "    # Combine data across tabs into a single df\n",
    "    data = pd.concat( [ dfs[tab] for tab in data_tab_names ] )\n",
    "    \n",
    "    # Lowercase column names\n",
    "    data.columns = [ str(x).lower() for x in data.columns ]\n",
    "    data = data.rename(columns={\n",
    "        'ct name': 'ct'\n",
    "    })\n",
    "    \n",
    "    # Make sure census tracts are strings, not ints\n",
    "    data.ct = data.ct.apply(lambda x: \"{:06.2f}\".format(float(x)))\n",
    "    \n",
    "    return data\n",
    "\n",
    "\n",
    "# Reads a single year of census\n",
    "# Returns a geodataframe\n",
    "def read_census(year):\n",
    "    \n",
    "    data = read_data(year)\n",
    "    geo = read_geo(year)\n",
    "    \n",
    "    return geo.merge(data, how='right', on='ct')"
   ]
  },
  {
   "cell_type": "markdown",
   "id": "27ff90e9-08ad-49a3-ac13-425676971fa3",
   "metadata": {},
   "source": [
    "## Read all Census years"
   ]
  },
  {
   "cell_type": "code",
   "execution_count": 189,
   "id": "c66146cb-fdae-485c-b47d-d629be60e1f1",
   "metadata": {},
   "outputs": [
    {
     "name": "stdout",
     "output_type": "stream",
     "text": [
      "Census 1951: reading data from CT Tab-Etobicoke Twshp, CT Tab-Long Branch, CT Tab-New Toronto, CT Tab-Mimico\n",
      "Census 1961: reading data from CT Tab - Etobicoke Twshp, CT Tab - Long Branch, CT Tab - New Toronto, CT Tab - Mimico\n",
      "Census 1971: reading data from CT Tab - Borough of Etobicoke\n",
      "Census 1981: reading data from CT Tab - Borough of Etobicoke\n",
      "Census 1991: reading data from CT Tab - City of Etobicoke\n",
      "Census 2001: reading data from CT Tab - F-Etobicoke\n",
      "Census 2011: reading data from CT Tabs F-Etobicoke\n"
     ]
    }
   ],
   "source": [
    "c1951 = read_census(1951)\n",
    "c1961 = read_census(1961)\n",
    "c1971 = read_census(1971)\n",
    "c1981 = read_census(1981)\n",
    "c1991 = read_census(1991)\n",
    "c2001 = read_census(2001)\n",
    "c2011 = read_census(2011)"
   ]
  },
  {
   "cell_type": "markdown",
   "id": "8d0f1322-490e-425a-b00a-b07d04b32a1c",
   "metadata": {},
   "source": [
    "## Clean up and derive extra variables"
   ]
  },
  {
   "cell_type": "code",
   "execution_count": null,
   "id": "5c6b456a-ad7d-4fb9-8778-a815de917a2e",
   "metadata": {},
   "outputs": [],
   "source": [
    "# Create a new column with % value for a given numerator\n",
    "# and denominator, & custom suffix\n",
    "# Place it after straight after the existing variable\n",
    "def calc_perc(df, num, denom, suffix='%'):\n",
    "    col_idx = df.columns.get_loc(num)\n",
    "    try:\n",
    "        df.insert(\n",
    "            col_idx + 1,\n",
    "            f\"{num} (%)\",\n",
    "            (df[num] / df[denom] * 100).apply(lambda x: round(x, 1))\n",
    "        )\n",
    "    except:\n",
    "        print(f\"Could not create a % variable for {num}\")"
   ]
  },
  {
   "cell_type": "code",
   "execution_count": 191,
   "id": "f5dbbfd0-a428-443c-a58d-4997f0d95d90",
   "metadata": {},
   "outputs": [
    {
     "name": "stdout",
     "output_type": "stream",
     "text": [
      "Census 1951: reading data from CT Tab-Etobicoke Twshp, CT Tab-Long Branch, CT Tab-New Toronto, CT Tab-Mimico\n"
     ]
    }
   ],
   "source": [
    "# Read 1951 census\n",
    "c1951 = read_census(1951)\n",
    "    \n",
    "# Calculate %s for origin\n",
    "for x in [\n",
    "    '22 british isles origine',\n",
    "    '23 french',\n",
    "    '24 german',\n",
    "    '25 italian',\n",
    "    '26 jewish',\n",
    "    '27 netherlands',\n",
    "    '28 polish',\n",
    "    '29 russian',\n",
    "    '30 scandinavian',\n",
    "    '31 ukraininian',\n",
    "    '32 other european',\n",
    "    '33 asiatic',\n",
    "    '34 other and not stated',\n",
    "    '46 roman catholic'\n",
    "]:\n",
    "    calc_perc(c1951, x, '1 population, 1951')\n",
    "\n",
    "    \n",
    "# Calculate %s for dwellings\n",
    "for x in [\n",
    "    '12 [households] with lodgers',\n",
    "    '29 [occupied dwellings] single detached',\n",
    "    '30 [occupied dwellings] apartments and flats',\n",
    "    '33 [occupied dwellings] owner occupied',\n",
    "    '35 [occupied dwellings] tenant-occupied',\n",
    "    '37 [year of occupancy:] before 1946',\n",
    "    '38 [year of occupancy:] 1946-1949', '39 [year of occupancy:] 1950-51',\n",
    "    '50 [occupied dwellings] passenger automobile'\n",
    "]:\n",
    "    calc_perc(c1951, x, '1 occupied dwellings (households)')\n",
    "\n",
    "# Mortgage needs a different denominator    \n",
    "calc_perc(\n",
    "    c1951,\n",
    "    '34 [occupied dwellings, owner occupied] reporting a mortgage',\n",
    "    '33 [occupied dwellings] owner occupied',\n",
    "    suffix='(% own. occup.)'\n",
    ")"
   ]
  },
  {
   "cell_type": "markdown",
   "id": "53ae01bf-75e7-4842-91ac-77013622f0e9",
   "metadata": {},
   "source": [
    "## Save map data"
   ]
  },
  {
   "cell_type": "code",
   "execution_count": 192,
   "id": "0c8e773b-6219-476a-9987-1751f332007b",
   "metadata": {},
   "outputs": [],
   "source": [
    "# Dictionary of census years and data frames\n",
    "dfs = { 1951: c1951, 1961: c1961, 1971: c1971, 1981: c1981, 1991: c1991, 2001: c2001, 2011: c2011 }\n",
    "\n",
    "# Generate a JSON object with year->variable->min/max values for choropleth\n",
    "data = {\n",
    "    str(y) : {\n",
    "        str(v): {\n",
    "            'min': str(dfs[y].loc[:, v].min()),\n",
    "            'max': str(dfs[y].loc[:, v].max())\n",
    "        } for v in dfs[y].columns[2:]\n",
    "    } for y in dfs.keys()\n",
    "}\n",
    "\n",
    "os.system(f\"echo 'const metadata = {json.dumps(data)}' > ./map/metadata.js\")\n",
    "\n",
    "for y, df in zip(dfs.keys(), dfs.values()):\n",
    "    df.to_file(f'./map/geojson/{y}.geojson', driver='GeoJSON')"
   ]
  },
  {
   "cell_type": "markdown",
   "id": "cbe9265d-0749-46cc-a366-3c6d36fc0493",
   "metadata": {},
   "source": [
    "## Generate static maps"
   ]
  },
  {
   "cell_type": "raw",
   "id": "12688931-c616-4c96-b0bc-7af15244b2d6",
   "metadata": {},
   "source": [
    "# Function to generate a single map\n",
    "# Returns a figure\n",
    "def generate_map(gdf, field, year):\n",
    "\n",
    "    ax = gdf.plot(\n",
    "        column=field,\n",
    "        cmap='Blues',\n",
    "        edgecolor='white',\n",
    "        legend=False,\n",
    "        figsize=(10,14.14),\n",
    "        linewidth=0.5,\n",
    "        missing_kwds={\n",
    "            'color': '#cccccc'\n",
    "        }\n",
    "    )\n",
    "\n",
    "    # Add title\n",
    "    ax.set_title(\n",
    "        '\\n'.join([\n",
    "            f\"{year} Census\",\n",
    "            f\"{field.title()}\",\n",
    "            \"Etobicoke, Toronto, Canada\"\n",
    "        ]),\n",
    "        loc='left'\n",
    "    )\n",
    "\n",
    "    # Add footnote\n",
    "    ax.text(0, -0.07,\n",
    "        f\"{ datetime.now().strftime('%d %b %Y') } • Picturedigits\",\n",
    "        transform=ax.transAxes,\n",
    "        color='#bbbbbb'\n",
    "    )\n",
    "\n",
    "    # Add direct labels\n",
    "    for i, row in gdf.iterrows():\n",
    "\n",
    "        x = row.geometry.centroid.x\n",
    "        y = row.geometry.centroid.y\n",
    "        \n",
    "        # Format value\n",
    "        value = row[field]\n",
    "        value = int(value) if value == value else '—'\n",
    "\n",
    "        # Census tract number\n",
    "        ax.annotate(\n",
    "            row.ct,\n",
    "            xy=(x, y),\n",
    "            xytext=(0,0),\n",
    "            textcoords=\"offset points\",\n",
    "            ha='center',\n",
    "            va='bottom',\n",
    "            alpha=0.5,\n",
    "            path_effects=[pe.Stroke(linewidth=2, foreground='w'), pe.Normal()],\n",
    "            fontsize=6\n",
    "        )\n",
    "\n",
    "        # Value\n",
    "        ax.annotate(\n",
    "            value,\n",
    "            xy=(x, y),\n",
    "            xytext=(0,0),\n",
    "            textcoords=\"offset points\",\n",
    "            ha='center',\n",
    "            va='top',\n",
    "            alpha=0.8,\n",
    "            fontsize=7,\n",
    "            path_effects=[pe.Stroke(linewidth=2, foreground='w'), pe.Normal()],\n",
    "            color='black'\n",
    "        )\n",
    "        \n",
    "    return ax.get_figure()"
   ]
  },
  {
   "cell_type": "code",
   "execution_count": 6,
   "id": "8f85a49b-45d8-49d7-8333-1abbeebd4f98",
   "metadata": {},
   "outputs": [],
   "source": [
    "#fields = list(c1951.columns[2:])\n",
    "\n",
    "#for field in fields:\n",
    "#    fig = generate_map(c1951, field, 1951)\n",
    "#    fig.savefig(f'output/1951-{field}.pdf', dpi=300)"
   ]
  },
  {
   "cell_type": "code",
   "execution_count": null,
   "id": "5964340f-413c-4999-a1d6-3ea2c640b5b8",
   "metadata": {},
   "outputs": [],
   "source": []
  },
  {
   "cell_type": "code",
   "execution_count": null,
   "id": "bdcd3405-1ace-4bb7-9564-8626f50ee92f",
   "metadata": {},
   "outputs": [],
   "source": []
  }
 ],
 "metadata": {
  "kernelspec": {
   "display_name": "gis2",
   "language": "python",
   "name": "gis2"
  },
  "language_info": {
   "codemirror_mode": {
    "name": "ipython",
    "version": 3
   },
   "file_extension": ".py",
   "mimetype": "text/x-python",
   "name": "python",
   "nbconvert_exporter": "python",
   "pygments_lexer": "ipython3",
   "version": "3.9.7"
  }
 },
 "nbformat": 4,
 "nbformat_minor": 5
}
